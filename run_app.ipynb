{
 "cells": [
  {
   "cell_type": "markdown",
   "metadata": {},
   "source": [
    "## Run + Console"
   ]
  },
  {
   "cell_type": "code",
   "execution_count": 1,
   "metadata": {},
   "outputs": [
    {
     "name": "stdout",
     "output_type": "stream",
     "text": [
      "Microsoft Windows [vers�o 10.0.19045.3693]\n",
      "(c) Microsoft Corporation. Todos os direitos reservados.\n",
      "\n",
      "(pdf_qa_langchain_openai) c:\\Users\\giulianoos\\Documents\\pdf_qa_langchain_openai>streamlit run app2.py\n"
     ]
    },
    {
     "name": "stderr",
     "output_type": "stream",
     "text": [
      "2024-03-19 19:17:50.986 \"general.email\" is not a valid config option. If you previously had this config option set, it may have been removed.\n"
     ]
    },
    {
     "name": "stdout",
     "output_type": "stream",
     "text": [
      "\n",
      "  You can now view your Streamlit app in your browser.\n",
      "\n",
      "  Network URL: http://172.16.7.164:8501\n",
      "  External URL: http://200.17.91.252:8501\n",
      "\n"
     ]
    },
    {
     "name": "stderr",
     "output_type": "stream",
     "text": [
      "C:\\Users\\giulianoos\\Documents\\pdf_qa_langchain_openai\\Lib\\site-packages\\langchain\\document_loaders\\__init__.py:36: LangChainDeprecationWarning: Importing document loaders from langchain is deprecated. Importing from langchain will no longer be supported as of langchain==0.2.0. Please import from langchain-community instead:\n",
      "\n",
      "`from langchain_community.document_loaders import PyPDFLoader`.\n",
      "\n",
      "To install langchain-community run `pip install -U langchain-community`.\n",
      "  warnings.warn(\n",
      "C:\\Users\\giulianoos\\Documents\\pdf_qa_langchain_openai\\Lib\\site-packages\\langchain\\document_loaders\\__init__.py:36: LangChainDeprecationWarning: Importing document loaders from langchain is deprecated. Importing from langchain will no longer be supported as of langchain==0.2.0. Please import from langchain-community instead:\n",
      "\n",
      "`from langchain_community.document_loaders import PyPDFLoader`.\n",
      "\n",
      "To install langchain-community run `pip install -U langchain-community`.\n",
      "  warnings.warn(\n",
      "C:\\Users\\giulianoos\\Documents\\pdf_qa_langchain_openai\\Lib\\site-packages\\langchain\\document_loaders\\__init__.py:36: LangChainDeprecationWarning: Importing document loaders from langchain is deprecated. Importing from langchain will no longer be supported as of langchain==0.2.0. Please import from langchain-community instead:\n",
      "\n",
      "`from langchain_community.document_loaders import PyPDFLoader`.\n",
      "\n",
      "To install langchain-community run `pip install -U langchain-community`.\n",
      "  warnings.warn(\n",
      "C:\\Users\\giulianoos\\Documents\\pdf_qa_langchain_openai\\Lib\\site-packages\\langchain\\document_loaders\\__init__.py:36: LangChainDeprecationWarning: Importing document loaders from langchain is deprecated. Importing from langchain will no longer be supported as of langchain==0.2.0. Please import from langchain-community instead:\n",
      "\n",
      "`from langchain_community.document_loaders import PyPDFLoader`.\n",
      "\n",
      "To install langchain-community run `pip install -U langchain-community`.\n",
      "  warnings.warn(\n"
     ]
    }
   ],
   "source": [
    "%%cmd\n",
    "streamlit run app.py\n",
    "\n",
    "# if stuck on \"Email\" message, create a credentials.toml on .../User/.streamlit/ with the following content:\n",
    "# [general]\n",
    "# Email=''"
   ]
  },
  {
   "cell_type": "code",
   "execution_count": 3,
   "metadata": {},
   "outputs": [
    {
     "name": "stdout",
     "output_type": "stream",
     "text": [
      "Microsoft Windows [vers�o 10.0.19045.3693]\n",
      "(c) Microsoft Corporation. Todos os direitos reservados.\n",
      "\n",
      "(pdf_qa_langchain_openai) c:\\Users\\giulianoos\\Documents\\pdf_qa_langchain_openai>pip show streamlit\n",
      "Name: streamlit\n",
      "Version: 1.32.2\n",
      "Summary: A faster way to build and share data apps\n",
      "Home-page: https://streamlit.io\n",
      "Author: Snowflake Inc\n",
      "Author-email: hello@streamlit.io\n",
      "License: Apache License 2.0\n",
      "Location: C:\\Users\\giulianoos\\Documents\\pdf_qa_langchain_openai\\Lib\\site-packages\n",
      "Requires: altair, blinker, cachetools, click, gitpython, numpy, packaging, pandas, pillow, protobuf, pyarrow, pydeck, requests, rich, tenacity, toml, tornado, typing-extensions, watchdog\n",
      "Required-by: \n",
      "\n",
      "(pdf_qa_langchain_openai) c:\\Users\\giulianoos\\Documents\\pdf_qa_langchain_openai>"
     ]
    }
   ],
   "source": [
    "%%cmd\n",
    "pip show streamlit"
   ]
  },
  {
   "cell_type": "code",
   "execution_count": null,
   "metadata": {},
   "outputs": [],
   "source": []
  }
 ],
 "metadata": {
  "kernelspec": {
   "display_name": "base",
   "language": "python",
   "name": "python3"
  },
  "language_info": {
   "codemirror_mode": {
    "name": "ipython",
    "version": 3
   },
   "file_extension": ".py",
   "mimetype": "text/x-python",
   "name": "python",
   "nbconvert_exporter": "python",
   "pygments_lexer": "ipython3",
   "version": "3.12.2"
  }
 },
 "nbformat": 4,
 "nbformat_minor": 2
}
