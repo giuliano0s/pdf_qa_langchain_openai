{
 "cells": [
  {
   "cell_type": "code",
   "execution_count": 1,
   "metadata": {},
   "outputs": [
    {
     "name": "stdout",
     "output_type": "stream",
     "text": [
      "{\n",
      "  \"error\": \"Missing required parameter video_id.\"\n",
      "}\n"
     ]
    }
   ],
   "source": [
    "import requests\n",
    "\n",
    "url = \"https://www.searchapi.io/api/v1/search\"\n",
    "params = {\n",
    "  \"engine\": \"youtube_transcripts\",\n",
    "  \"video_id\": \"\",\n",
    "  \"api_key\": \"JXNZN9TRwGvWhqZdqxi9h1sz\",\n",
    "  'lang': 'pt'\n",
    "}\n",
    "\n",
    "response = requests.get(url, params = params)\n",
    "print(response.text)"
   ]
  },
  {
   "cell_type": "code",
   "execution_count": null,
   "metadata": {},
   "outputs": [],
   "source": []
  }
 ],
 "metadata": {
  "kernelspec": {
   "display_name": "base-plus",
   "language": "python",
   "name": "python3"
  },
  "language_info": {
   "codemirror_mode": {
    "name": "ipython",
    "version": 3
   },
   "file_extension": ".py",
   "mimetype": "text/x-python",
   "name": "python",
   "nbconvert_exporter": "python",
   "pygments_lexer": "ipython3",
   "version": "3.11.7"
  }
 },
 "nbformat": 4,
 "nbformat_minor": 2
}
